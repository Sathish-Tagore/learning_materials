{
 "cells": [
  {
   "cell_type": "markdown",
   "id": "087c7386",
   "metadata": {},
   "source": [
    "### Training and running a linear model using Scikit-Learn"
   ]
  },
  {
   "cell_type": "code",
   "execution_count": 15,
   "id": "76136225",
   "metadata": {},
   "outputs": [],
   "source": [
    "import sklearn.neighbors"
   ]
  },
  {
   "cell_type": "code",
   "execution_count": 1,
   "id": "7f9ff2e2",
   "metadata": {},
   "outputs": [],
   "source": [
    "import matplotlib\n",
    "import matplotlib.pyplot as plt\n",
    "import numpy as np\n",
    "import pandas as pd\n",
    "import sklearn.linear_model\n",
    "\n",
    "#Load the data\n",
    "oecd_bli = pd.read_csv('datasets/lifesat/oecd_bli_2015.csv', thousands=',')\n",
    "gdp_per_capita = pd.read_csv('datasets/lifesat/gdp_per_capita.csv', thousands=',',delimiter='\\t',\n",
    "                            encoding='latin1',na_values='n/a')"
   ]
  },
  {
   "cell_type": "code",
   "execution_count": 2,
   "id": "33263f67",
   "metadata": {},
   "outputs": [
    {
     "data": {
      "text/html": [
       "<div>\n",
       "<style scoped>\n",
       "    .dataframe tbody tr th:only-of-type {\n",
       "        vertical-align: middle;\n",
       "    }\n",
       "\n",
       "    .dataframe tbody tr th {\n",
       "        vertical-align: top;\n",
       "    }\n",
       "\n",
       "    .dataframe thead th {\n",
       "        text-align: right;\n",
       "    }\n",
       "</style>\n",
       "<table border=\"1\" class=\"dataframe\">\n",
       "  <thead>\n",
       "    <tr style=\"text-align: right;\">\n",
       "      <th></th>\n",
       "      <th>LOCATION</th>\n",
       "      <th>Country</th>\n",
       "      <th>INDICATOR</th>\n",
       "      <th>Indicator</th>\n",
       "      <th>MEASURE</th>\n",
       "      <th>Measure</th>\n",
       "      <th>INEQUALITY</th>\n",
       "      <th>Inequality</th>\n",
       "      <th>Unit Code</th>\n",
       "      <th>Unit</th>\n",
       "      <th>PowerCode Code</th>\n",
       "      <th>PowerCode</th>\n",
       "      <th>Reference Period Code</th>\n",
       "      <th>Reference Period</th>\n",
       "      <th>Value</th>\n",
       "      <th>Flag Codes</th>\n",
       "      <th>Flags</th>\n",
       "    </tr>\n",
       "  </thead>\n",
       "  <tbody>\n",
       "    <tr>\n",
       "      <th>0</th>\n",
       "      <td>AUS</td>\n",
       "      <td>Australia</td>\n",
       "      <td>HO_BASE</td>\n",
       "      <td>Dwellings without basic facilities</td>\n",
       "      <td>L</td>\n",
       "      <td>Value</td>\n",
       "      <td>TOT</td>\n",
       "      <td>Total</td>\n",
       "      <td>PC</td>\n",
       "      <td>Percentage</td>\n",
       "      <td>0</td>\n",
       "      <td>units</td>\n",
       "      <td>NaN</td>\n",
       "      <td>NaN</td>\n",
       "      <td>1.1</td>\n",
       "      <td>E</td>\n",
       "      <td>Estimated value</td>\n",
       "    </tr>\n",
       "    <tr>\n",
       "      <th>1</th>\n",
       "      <td>AUT</td>\n",
       "      <td>Austria</td>\n",
       "      <td>HO_BASE</td>\n",
       "      <td>Dwellings without basic facilities</td>\n",
       "      <td>L</td>\n",
       "      <td>Value</td>\n",
       "      <td>TOT</td>\n",
       "      <td>Total</td>\n",
       "      <td>PC</td>\n",
       "      <td>Percentage</td>\n",
       "      <td>0</td>\n",
       "      <td>units</td>\n",
       "      <td>NaN</td>\n",
       "      <td>NaN</td>\n",
       "      <td>1.0</td>\n",
       "      <td>NaN</td>\n",
       "      <td>NaN</td>\n",
       "    </tr>\n",
       "    <tr>\n",
       "      <th>2</th>\n",
       "      <td>BEL</td>\n",
       "      <td>Belgium</td>\n",
       "      <td>HO_BASE</td>\n",
       "      <td>Dwellings without basic facilities</td>\n",
       "      <td>L</td>\n",
       "      <td>Value</td>\n",
       "      <td>TOT</td>\n",
       "      <td>Total</td>\n",
       "      <td>PC</td>\n",
       "      <td>Percentage</td>\n",
       "      <td>0</td>\n",
       "      <td>units</td>\n",
       "      <td>NaN</td>\n",
       "      <td>NaN</td>\n",
       "      <td>2.0</td>\n",
       "      <td>NaN</td>\n",
       "      <td>NaN</td>\n",
       "    </tr>\n",
       "    <tr>\n",
       "      <th>3</th>\n",
       "      <td>CAN</td>\n",
       "      <td>Canada</td>\n",
       "      <td>HO_BASE</td>\n",
       "      <td>Dwellings without basic facilities</td>\n",
       "      <td>L</td>\n",
       "      <td>Value</td>\n",
       "      <td>TOT</td>\n",
       "      <td>Total</td>\n",
       "      <td>PC</td>\n",
       "      <td>Percentage</td>\n",
       "      <td>0</td>\n",
       "      <td>units</td>\n",
       "      <td>NaN</td>\n",
       "      <td>NaN</td>\n",
       "      <td>0.2</td>\n",
       "      <td>NaN</td>\n",
       "      <td>NaN</td>\n",
       "    </tr>\n",
       "    <tr>\n",
       "      <th>4</th>\n",
       "      <td>CZE</td>\n",
       "      <td>Czech Republic</td>\n",
       "      <td>HO_BASE</td>\n",
       "      <td>Dwellings without basic facilities</td>\n",
       "      <td>L</td>\n",
       "      <td>Value</td>\n",
       "      <td>TOT</td>\n",
       "      <td>Total</td>\n",
       "      <td>PC</td>\n",
       "      <td>Percentage</td>\n",
       "      <td>0</td>\n",
       "      <td>units</td>\n",
       "      <td>NaN</td>\n",
       "      <td>NaN</td>\n",
       "      <td>0.9</td>\n",
       "      <td>NaN</td>\n",
       "      <td>NaN</td>\n",
       "    </tr>\n",
       "  </tbody>\n",
       "</table>\n",
       "</div>"
      ],
      "text/plain": [
       "  LOCATION         Country INDICATOR                           Indicator  \\\n",
       "0      AUS       Australia   HO_BASE  Dwellings without basic facilities   \n",
       "1      AUT         Austria   HO_BASE  Dwellings without basic facilities   \n",
       "2      BEL         Belgium   HO_BASE  Dwellings without basic facilities   \n",
       "3      CAN          Canada   HO_BASE  Dwellings without basic facilities   \n",
       "4      CZE  Czech Republic   HO_BASE  Dwellings without basic facilities   \n",
       "\n",
       "  MEASURE Measure INEQUALITY Inequality Unit Code        Unit  PowerCode Code  \\\n",
       "0       L   Value        TOT      Total        PC  Percentage               0   \n",
       "1       L   Value        TOT      Total        PC  Percentage               0   \n",
       "2       L   Value        TOT      Total        PC  Percentage               0   \n",
       "3       L   Value        TOT      Total        PC  Percentage               0   \n",
       "4       L   Value        TOT      Total        PC  Percentage               0   \n",
       "\n",
       "  PowerCode  Reference Period Code  Reference Period  Value Flag Codes  \\\n",
       "0     units                    NaN               NaN    1.1          E   \n",
       "1     units                    NaN               NaN    1.0        NaN   \n",
       "2     units                    NaN               NaN    2.0        NaN   \n",
       "3     units                    NaN               NaN    0.2        NaN   \n",
       "4     units                    NaN               NaN    0.9        NaN   \n",
       "\n",
       "             Flags  \n",
       "0  Estimated value  \n",
       "1              NaN  \n",
       "2              NaN  \n",
       "3              NaN  \n",
       "4              NaN  "
      ]
     },
     "execution_count": 2,
     "metadata": {},
     "output_type": "execute_result"
    }
   ],
   "source": [
    "oecd_bli.head(5)"
   ]
  },
  {
   "cell_type": "code",
   "execution_count": 3,
   "id": "108bfb1e",
   "metadata": {},
   "outputs": [
    {
     "data": {
      "text/html": [
       "<div>\n",
       "<style scoped>\n",
       "    .dataframe tbody tr th:only-of-type {\n",
       "        vertical-align: middle;\n",
       "    }\n",
       "\n",
       "    .dataframe tbody tr th {\n",
       "        vertical-align: top;\n",
       "    }\n",
       "\n",
       "    .dataframe thead th {\n",
       "        text-align: right;\n",
       "    }\n",
       "</style>\n",
       "<table border=\"1\" class=\"dataframe\">\n",
       "  <thead>\n",
       "    <tr style=\"text-align: right;\">\n",
       "      <th></th>\n",
       "      <th>Country</th>\n",
       "      <th>Subject Descriptor</th>\n",
       "      <th>Units</th>\n",
       "      <th>Scale</th>\n",
       "      <th>Country/Series-specific Notes</th>\n",
       "      <th>2015</th>\n",
       "      <th>Estimates Start After</th>\n",
       "    </tr>\n",
       "  </thead>\n",
       "  <tbody>\n",
       "    <tr>\n",
       "      <th>0</th>\n",
       "      <td>Afghanistan</td>\n",
       "      <td>Gross domestic product per capita, current prices</td>\n",
       "      <td>U.S. dollars</td>\n",
       "      <td>Units</td>\n",
       "      <td>See notes for:  Gross domestic product, curren...</td>\n",
       "      <td>599.994</td>\n",
       "      <td>2013.0</td>\n",
       "    </tr>\n",
       "    <tr>\n",
       "      <th>1</th>\n",
       "      <td>Albania</td>\n",
       "      <td>Gross domestic product per capita, current prices</td>\n",
       "      <td>U.S. dollars</td>\n",
       "      <td>Units</td>\n",
       "      <td>See notes for:  Gross domestic product, curren...</td>\n",
       "      <td>3995.383</td>\n",
       "      <td>2010.0</td>\n",
       "    </tr>\n",
       "    <tr>\n",
       "      <th>2</th>\n",
       "      <td>Algeria</td>\n",
       "      <td>Gross domestic product per capita, current prices</td>\n",
       "      <td>U.S. dollars</td>\n",
       "      <td>Units</td>\n",
       "      <td>See notes for:  Gross domestic product, curren...</td>\n",
       "      <td>4318.135</td>\n",
       "      <td>2014.0</td>\n",
       "    </tr>\n",
       "    <tr>\n",
       "      <th>3</th>\n",
       "      <td>Angola</td>\n",
       "      <td>Gross domestic product per capita, current prices</td>\n",
       "      <td>U.S. dollars</td>\n",
       "      <td>Units</td>\n",
       "      <td>See notes for:  Gross domestic product, curren...</td>\n",
       "      <td>4100.315</td>\n",
       "      <td>2014.0</td>\n",
       "    </tr>\n",
       "    <tr>\n",
       "      <th>4</th>\n",
       "      <td>Antigua and Barbuda</td>\n",
       "      <td>Gross domestic product per capita, current prices</td>\n",
       "      <td>U.S. dollars</td>\n",
       "      <td>Units</td>\n",
       "      <td>See notes for:  Gross domestic product, curren...</td>\n",
       "      <td>14414.302</td>\n",
       "      <td>2011.0</td>\n",
       "    </tr>\n",
       "  </tbody>\n",
       "</table>\n",
       "</div>"
      ],
      "text/plain": [
       "               Country                                 Subject Descriptor  \\\n",
       "0          Afghanistan  Gross domestic product per capita, current prices   \n",
       "1              Albania  Gross domestic product per capita, current prices   \n",
       "2              Algeria  Gross domestic product per capita, current prices   \n",
       "3               Angola  Gross domestic product per capita, current prices   \n",
       "4  Antigua and Barbuda  Gross domestic product per capita, current prices   \n",
       "\n",
       "          Units  Scale                      Country/Series-specific Notes  \\\n",
       "0  U.S. dollars  Units  See notes for:  Gross domestic product, curren...   \n",
       "1  U.S. dollars  Units  See notes for:  Gross domestic product, curren...   \n",
       "2  U.S. dollars  Units  See notes for:  Gross domestic product, curren...   \n",
       "3  U.S. dollars  Units  See notes for:  Gross domestic product, curren...   \n",
       "4  U.S. dollars  Units  See notes for:  Gross domestic product, curren...   \n",
       "\n",
       "        2015  Estimates Start After  \n",
       "0    599.994                 2013.0  \n",
       "1   3995.383                 2010.0  \n",
       "2   4318.135                 2014.0  \n",
       "3   4100.315                 2014.0  \n",
       "4  14414.302                 2011.0  "
      ]
     },
     "execution_count": 3,
     "metadata": {},
     "output_type": "execute_result"
    }
   ],
   "source": [
    "gdp_per_capita.head(5)"
   ]
  },
  {
   "cell_type": "markdown",
   "id": "dbcda13f",
   "metadata": {},
   "source": [
    "This function just merges the OECD's life satisfaction data and the IMF's GDP per capita data. It's a bit too long and boring and it's not specific to Machine Learning, which is why I left it out of the book."
   ]
  },
  {
   "cell_type": "code",
   "execution_count": 5,
   "id": "860128f7",
   "metadata": {},
   "outputs": [],
   "source": [
    "def prepare_country_stats(oecd_bli, gdp_per_capita):\n",
    "    oecd_bli = oecd_bli[oecd_bli[\"INEQUALITY\"]==\"TOT\"]\n",
    "    oecd_bli = oecd_bli.pivot(index=\"Country\", columns=\"Indicator\", values=\"Value\")\n",
    "    gdp_per_capita.rename(columns={\"2015\": \"GDP per capita\"}, inplace=True)\n",
    "    gdp_per_capita.set_index(\"Country\", inplace=True)\n",
    "    full_country_stats = pd.merge(left=oecd_bli, right=gdp_per_capita,\n",
    "                                  left_index=True, right_index=True)\n",
    "    full_country_stats.sort_values(by=\"GDP per capita\", inplace=True)\n",
    "    remove_indices = [0, 1, 6, 8, 33, 34, 35]\n",
    "    keep_indices = list(set(range(36)) - set(remove_indices))\n",
    "    return full_country_stats[[\"GDP per capita\", 'Life satisfaction']].iloc[keep_indices]"
   ]
  },
  {
   "cell_type": "code",
   "execution_count": 6,
   "id": "79468f63",
   "metadata": {},
   "outputs": [],
   "source": [
    "#prepare the Data\n",
    "country_stats = prepare_country_stats(oecd_bli,gdp_per_capita)"
   ]
  },
  {
   "cell_type": "code",
   "execution_count": 7,
   "id": "13107280",
   "metadata": {},
   "outputs": [],
   "source": [
    "X = np.c_[country_stats['GDP per capita']]\n",
    "y = np.c_[country_stats['Life satisfaction']]"
   ]
  },
  {
   "cell_type": "code",
   "execution_count": 10,
   "id": "172ff7d5",
   "metadata": {},
   "outputs": [
    {
     "data": {
      "image/png": "[encoded data removed]",
      "text/plain": [
       "<Figure size 432x288 with 1 Axes>"
      ]
     },
     "metadata": {
      "needs_background": "light"
     },
     "output_type": "display_data"
    }
   ],
   "source": [
    "country_stats.plot(kind='scatter', x='GDP per capita', y='Life satisfaction')\n",
    "plt.show()"
   ]
  },
  {
   "cell_type": "code",
   "execution_count": 11,
   "id": "115e4bce",
   "metadata": {},
   "outputs": [
    {
     "data": {
      "text/plain": [
       "LinearRegression()"
      ]
     },
     "execution_count": 11,
     "metadata": {},
     "output_type": "execute_result"
    }
   ],
   "source": [
    "#Select a Linear Model\n",
    "model = sklearn.linear_model.LinearRegression()\n",
    "\n",
    "#Fit the model\n",
    "model.fit(X,y)\n"
   ]
  },
  {
   "cell_type": "code",
   "execution_count": 12,
   "id": "28246fc4",
   "metadata": {},
   "outputs": [
    {
     "name": "stdout",
     "output_type": "stream",
     "text": [
      "[[5.96242338]]\n"
     ]
    }
   ],
   "source": [
    "X_new = [[22587]]   #Cyprus GDP per capita\n",
    "print(model.predict(X_new))"
   ]
  },
  {
   "cell_type": "code",
   "execution_count": 18,
   "id": "e88c78e8",
   "metadata": {},
   "outputs": [
    {
     "data": {
      "text/plain": [
       "KNeighborsRegressor(n_neighbors=3)"
      ]
     },
     "execution_count": 18,
     "metadata": {},
     "output_type": "execute_result"
    }
   ],
   "source": [
    "#Trying K-Nearest Neighbours\n",
    "model1 = sklearn.neighbors.KNeighborsRegressor(n_neighbors = 3)\n",
    "\n",
    "\n",
    "#Fit the model\n",
    "model1.fit(X,y)"
   ]
  },
  {
   "cell_type": "code",
   "execution_count": 19,
   "id": "93458051",
   "metadata": {},
   "outputs": [
    {
     "name": "stdout",
     "output_type": "stream",
     "text": [
      "[[5.76666667]]\n"
     ]
    }
   ],
   "source": [
    "print(model1.predict(X_new))"
   ]
  },
  {
   "cell_type": "markdown",
   "id": "f7dd3eb3",
   "metadata": {},
   "source": [
    "### Q and A"
   ]
  },
  {
   "cell_type": "markdown",
   "id": "6d2fbab8",
   "metadata": {},
   "source": [
    "1. How could you define machine Learning?\n",
    "\n",
    "Machine learning is about building systems that can learn from data. Learning means getting better at some task, given some performance measure."
   ]
  },
  {
   "cell_type": "markdown",
   "id": "ff6b2288",
   "metadata": {},
   "source": [
    "2. Can you name four types of problems where it shines?\n",
    "\n",
    "Machine Learning is great for complex problems for which we have no algorithmic solution to replace long lists of hand-tuned rules, to build systems that adapt to fluctuation environments and finally to help humans learn(e.g., Data mining)"
   ]
  },
  {
   "cell_type": "markdown",
   "id": "2bd1feaf",
   "metadata": {},
   "source": [
    "3. What is a labeled training set?\n",
    "\n",
    "A labeled training set is a training set that contains the desired solution(a.k.a a label) for each instance."
   ]
  },
  {
   "cell_type": "markdown",
   "id": "60c84fa0",
   "metadata": {},
   "source": [
    "4. What are the two most common supervised tasks?\n",
    "\n",
    "The two most common supervised tasks are regression and classsification"
   ]
  },
  {
   "cell_type": "markdown",
   "id": "bb7c4ec6",
   "metadata": {},
   "source": [
    "5. Can you name four common unsupervised tasks?\n",
    "\n",
    "Clustering, visualization, dimensionality reduction and association rule learning"
   ]
  },
  {
   "cell_type": "markdown",
   "id": "fb5ae826",
   "metadata": {},
   "source": [
    "6. What type of machine learning algorithm would you use to allow a robot to walk in various unknown terrains?\n",
    "\n",
    "Reinforcement Learning is likely to perform best if we want a robot to learn to walk in various unknown terrains since this is typically the type of problem that Reinforcement learning tackles. It might be possible to express the problem as a supervised or semisupervised learning problem, but it would be less natural."
   ]
  },
  {
   "cell_type": "markdown",
   "id": "1612d6e0",
   "metadata": {},
   "source": [
    "7. What type of algorithm would you use to segment your customers into multiple groups?\n",
    "\n",
    "If you dont know how to define the groups, then you can use a clustering algorithm (unsupervised Learning) to segment your customers into clusters of similar customers. However, If you know what groups you would like to have, then you can feed many examples of each group to a classification algorithm, and it will classify all your customers into these groups."
   ]
  },
  {
   "cell_type": "markdown",
   "id": "428eecbc",
   "metadata": {},
   "source": [
    "8. Would you frame the problem of spam detection as a supervised learning problem or an unsupervised learning problem?\n",
    "\n",
    "Spam detection is a typical supervised learning problem. the algorithm is fed many emails along with labels(spam or not)"
   ]
  },
  {
   "cell_type": "markdown",
   "id": "d55b0898",
   "metadata": {},
   "source": [
    "9. What is an online learning system?\n",
    "\n",
    "Can learn incrementally, as opposed to batch learning system. this makes it capable of adapting rapidly to both changing data and autonomous systems, and of training on very large quantities of data."
   ]
  },
  {
   "cell_type": "markdown",
   "id": "8b022669",
   "metadata": {},
   "source": [
    "10. What is out of core learning?\n",
    "\n",
    "out of core algorithms can handle vast quantities of data that cannot fit in a computer's main memory. An out of core learning algorithm chops the data into mini batches and uses online learning techniques to learn from these mini batches"
   ]
  },
  {
   "cell_type": "markdown",
   "id": "08a0d0db",
   "metadata": {},
   "source": [
    "11. What type of learning algorithm relies on a similarity measure to make predictions?\n",
    "\n",
    "An instance based learning system learns the training data by heart, then when given a new instance, it uses a similarity measure to find the most similar learned instaces and uses them to make predictions."
   ]
  },
  {
   "cell_type": "markdown",
   "id": "982239a4",
   "metadata": {},
   "source": [
    "12. What is the difference between a model parameter and a learning algorithm's hyperparameter?\n",
    "\n",
    "A model has one or more parameters that determine what it will predict given a new instance (e.g slope of a linear model). A learning algorithm try to find the optimal values for these paremeters such that the model generalizes to the new instances well. A hyperparameter is the parameter of the learning algorithm itself, not of the model(e.g the amount of regularization to apply)"
   ]
  },
  {
   "cell_type": "markdown",
   "id": "118f418f",
   "metadata": {},
   "source": [
    "13. What do Model based learning algorithms search for ? What is the most common strategy they use to succeed? How do the make predictions? \n",
    "\n",
    "Model-based learning search for an optimal value for the model parameters such that the model will generalize well to new instances. We usually train such systems by minimizing the cost function that measures how bad the system is at making predictions on the training data, plus a penalty for model complexity if the model is regularized. to make predictions we feed the new instance's features into the model prediction function using the parameter values found by the learning algorithm."
   ]
  },
  {
   "cell_type": "markdown",
   "id": "ac3a295e",
   "metadata": {},
   "source": [
    "14. Can you name four of the main challenges in Machine Learning?\n",
    "\n",
    "Lack of data, poor quality of data, non representative data, uninformative measures, excessively simple models that underfit the training data and excessively complex models that overfits the training data"
   ]
  },
  {
   "cell_type": "markdown",
   "id": "370aa7cc",
   "metadata": {},
   "source": [
    "15.If your model performs great on the training data but generalizes poorly to new instances, what is happening? can you name three possible solutions? \n",
    "\n",
    "The model is likely to overfit the training data(or we got extremely lucky on the training data). Getting more data, simplifying the model(selecting a simpler algorithm, reducing the number of parameters or features used or regularizing the model) or reducing the noise in the data"
   ]
  },
  {
   "cell_type": "markdown",
   "id": "631cad16",
   "metadata": {},
   "source": [
    "16. What is a test set and why would you want to use it?\n",
    "\n",
    "A test set is used to estimate the generalization error that a model will make on new instances, before the model is launched in production"
   ]
  },
  {
   "cell_type": "markdown",
   "id": "c21f9d7a",
   "metadata": {},
   "source": [
    "17. What is the purpose of a validation set?\n",
    "\n",
    "A validation set is used to compare models. It makes it possible to select the best model and tune the hyperparameters."
   ]
  },
  {
   "cell_type": "markdown",
   "id": "82151906",
   "metadata": {},
   "source": [
    "18. What can go wrong if you tune hyperparemeters using the test set? \n",
    "\n",
    "If you tune hyperparameters using the test set, you risk overfitting the test set, and the generalization error you measure will be optimistic(you may launch model that performs worse than you expect)"
   ]
  },
  {
   "cell_type": "markdown",
   "id": "27a7f226",
   "metadata": {},
   "source": [
    "19. What is cross validation and why would you prefer it to a validation set?\n",
    "\n",
    "technique to compare models(for model selection and hyperparameter tuning) without the need for a seperate validation set. This saves precious training data."
   ]
  }
 ],
 "metadata": {
  "kernelspec": {
   "display_name": "Python 3",
   "language": "python",
   "name": "python3"
  },
  "language_info": {
   "codemirror_mode": {
    "name": "ipython",
    "version": 3
   },
   "file_extension": ".py",
   "mimetype": "text/x-python",
   "name": "python",
   "nbconvert_exporter": "python",
   "pygments_lexer": "ipython3",
   "version": "3.8.8"
  }
 },
 "nbformat": 4,
 "nbformat_minor": 5
}
